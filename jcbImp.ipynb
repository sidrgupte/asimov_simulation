{
 "cells": [
  {
   "cell_type": "code",
   "execution_count": 71,
   "id": "bc225d03",
   "metadata": {},
   "outputs": [],
   "source": [
    "import matplotlib.pyplot as plt\n",
    "#from matplotlib.animation import FuncAnimation\n",
    "import seaborn as sns\n",
    "import numpy as np\n",
    "import math\n",
    "from scipy.stats import norm, rayleigh,poisson,chi2\n",
    "from scipy.optimize import minimize\n",
    "from scipy.special import gamma,loggamma\n",
    "from ipywidgets import interactive\n",
    "import pandas as pd"
   ]
  },
  {
   "cell_type": "markdown",
   "id": "d3c45a18",
   "metadata": {},
   "source": [
    "Definitions:\n",
    "H0 is Null Hyptohesis: Only background\n",
    "H1 is Signal + Background\n",
    "Notes:\n",
    "1) When setting limits, H1/H0 swap roles!\n",
    "2) Expected significance is median, not average\n",
    "\n",
    "\n",
    "Let's define histogram bin borders"
   ]
  },
  {
   "cell_type": "code",
   "execution_count": 264,
   "id": "2c10db47",
   "metadata": {},
   "outputs": [
    {
     "name": "stdout",
     "output_type": "stream",
     "text": [
      "[ 0.    0.25  0.5   0.75  1.    1.25  1.5   1.75  2.    2.25  2.5   2.75\n",
      "  3.    3.25  3.5   3.75  4.    4.25  4.5   4.75  5.    5.25  5.5   5.75\n",
      "  6.    6.25  6.5   6.75  7.    7.25  7.5   7.75  8.    8.25  8.5   8.75\n",
      "  9.    9.25  9.5   9.75 10.   10.25 10.5  10.75 11.   11.25 11.5  11.75\n",
      " 12.   12.25 12.5  12.75 13.   13.25 13.5  13.75 14.   14.25 14.5  14.75\n",
      " 15.   15.25 15.5  15.75 16.   16.25 16.5  16.75 17.   17.25 17.5  17.75\n",
      " 18.   18.25 18.5  18.75 19.   19.25 19.5  19.75 20.   20.25 20.5  20.75\n",
      " 21.   21.25 21.5  21.75 22.   22.25 22.5  22.75 23.   23.25 23.5  23.75\n",
      " 24.   24.25 24.5  24.75 25.   25.25 25.5  25.75 26.   26.25 26.5  26.75\n",
      " 27.   27.25 27.5  27.75 28.   28.25 28.5  28.75 29.   29.25 29.5  29.75\n",
      " 30.  ]\n"
     ]
    }
   ],
   "source": [
    "mass_min=0\n",
    "mass_max=30\n",
    "bins=120\n",
    "histobins=np.linspace(mass_min,mass_max, bins+1)\n",
    "print (histobins)"
   ]
  },
  {
   "cell_type": "markdown",
   "id": "a00e727f",
   "metadata": {},
   "source": [
    "Now, we define two functions, f_s_i and f_b_i, that will return the strength of signal and background in bin i (so that the integral over all bins would be 1). \n",
    "The signal is a norm and depends on a assumed signal position, pos, and width sigma\n",
    "The back is a rayleigh and depnds on a assumed background pos, pos, and scale scale"
   ]
  },
  {
   "cell_type": "code",
   "execution_count": 234,
   "id": "906fbcc7",
   "metadata": {},
   "outputs": [],
   "source": [
    "def f_s_i(i,pos,sigma):\n",
    "    assert i>=0, \"i too small\"\n",
    "    assert i<=bins, \"i too large\"            \n",
    "    return norm.cdf(histobins[i+1],pos,sigma)-norm.cdf(histobins[i],pos,sigma)\n",
    "\n",
    "def f_b_i(i,pos,scale):\n",
    "    assert i>=0, \"i too small\"\n",
    "    assert i<=bins, \"i too large\"            \n",
    "    return rayleigh.cdf(histobins[i+1],pos,scale)-rayleigh.cdf(histobins[i],pos,scale)"
   ]
  },
  {
   "cell_type": "markdown",
   "id": "7c869d3e",
   "metadata": {},
   "source": [
    "Let's plot them"
   ]
  },
  {
   "cell_type": "code",
   "execution_count": 4,
   "id": "ed9910ed",
   "metadata": {},
   "outputs": [
    {
     "data": {
      "text/plain": [
       "[<matplotlib.lines.Line2D at 0x7fd4f4abf460>]"
      ]
     },
     "execution_count": 4,
     "metadata": {},
     "output_type": "execute_result"
    },
    {
     "data": {
      "image/png": "[encoded data removed]",
      "text/plain": [
       "<Figure size 432x288 with 1 Axes>"
      ]
     },
     "metadata": {
      "needs_background": "light"
     },
     "output_type": "display_data"
    }
   ],
   "source": [
    "fig, ax = plt.subplots(1, 1)\n",
    "ax.plot(histobins,[f_s_i(i,15,1) for i in range (bins)]+[0],ds=\"steps-post\")\n",
    "ax.plot(histobins,[f_b_i(i,0,10) for i in range (bins)]+[0],ds=\"steps-post\")"
   ]
  },
  {
   "cell_type": "markdown",
   "id": "679b9088",
   "metadata": {},
   "source": [
    "Let's simulate one run of an experiment. We do this in two steps: First we'll build a histogram that provides the expected value for counts per bin, assuming expected total signal and total background events, mu, theta"
   ]
  },
  {
   "cell_type": "code",
   "execution_count": 5,
   "id": "879985b7",
   "metadata": {},
   "outputs": [],
   "source": [
    "def expected(mu,theta, spos,swidth,bpos,bwidth):\n",
    "    return [theta*f_b_i(i,bpos,bwidth)+mu*f_s_i(i,spos,swidth) for i in range(bins)]"
   ]
  },
  {
   "cell_type": "markdown",
   "id": "66d2b95a",
   "metadata": {},
   "source": [
    "Then we draw from a poisson distribution, per bin, with the expected value set to the expected bin content. This simulates a real implementation of the experiment"
   ]
  },
  {
   "cell_type": "code",
   "execution_count": 6,
   "id": "97e24d66",
   "metadata": {},
   "outputs": [],
   "source": [
    "def one_exp(bins):\n",
    "    return [poisson.rvs(ev) for ev in bins]"
   ]
  },
  {
   "cell_type": "markdown",
   "id": "5c216b75",
   "metadata": {},
   "source": [
    "Let's test this, and plot expected and three experiment runs"
   ]
  },
  {
   "cell_type": "code",
   "execution_count": 7,
   "id": "4076a829",
   "metadata": {},
   "outputs": [
    {
     "data": {
      "text/plain": [
       "[<matplotlib.lines.Line2D at 0x7fd4f29de3e0>]"
      ]
     },
     "execution_count": 7,
     "metadata": {},
     "output_type": "execute_result"
    },
    {
     "data": {
      "image/png": "[encoded data removed]",
      "text/plain": [
       "<Figure size 432x288 with 1 Axes>"
      ]
     },
     "metadata": {
      "needs_background": "light"
     },
     "output_type": "display_data"
    }
   ],
   "source": [
    "fig, ax = plt.subplots(1, 1)\n",
    "exp=expected(100,1000,15,1,0,10)\n",
    "ax.plot(histobins,exp+[0],ds=\"steps-post\",lw=5)\n",
    "ax.plot(histobins,one_exp(exp)+[0],ds=\"steps-post\")\n",
    "ax.plot(histobins,one_exp(exp)+[0],ds=\"steps-post\")\n",
    "ax.plot(histobins,one_exp(exp)+[0],ds=\"steps-post\")"
   ]
  },
  {
   "cell_type": "markdown",
   "id": "adc6895a",
   "metadata": {},
   "source": [
    "For now, we ignore the possibility of additional measurements that give info on theta. Then we can define the likelihood like this. We replace the factorial with the gamma function"
   ]
  },
  {
   "cell_type": "code",
   "execution_count": 8,
   "id": "4da9b2cd",
   "metadata": {},
   "outputs": [],
   "source": [
    "def like(n,mu,theta, spos, swidth, bpos,bwidth):\n",
    "        #we reuse expected to calcuale the expected number under the given assumptions:\n",
    "        exp=expected(mu,theta,spos,swidth,bpos,bwidth)\n",
    "        # Now we multiply up the likelihood parts:\n",
    "        l=1\n",
    "        for i in range(bins):\n",
    "            l*=math.pow(exp[i],n[i])/gamma(n[i]+1)*math.exp(-exp[i])\n",
    "        return l\n",
    "    "
   ]
  },
  {
   "cell_type": "markdown",
   "id": "05932da7",
   "metadata": {},
   "source": [
    "This might be mathematically unstable. Let's calc the loglikelihood:"
   ]
  },
  {
   "cell_type": "code",
   "execution_count": 9,
   "id": "1d4208b6",
   "metadata": {},
   "outputs": [],
   "source": [
    "def loglike(n,mu,theta, spos, swidth, bpos,bwidth):\n",
    "        #we reuse expected to calcuale the expected number under the given assumptions:\n",
    "        exp=expected(mu,theta,spos,swidth,bpos,bwidth)\n",
    "        # Now we multiply up the likelihood parts:\n",
    "        l=0\n",
    "        for i in range(bins):\n",
    "            l+=math.log(exp[i])*n[i]-loggamma(n[i]+1)-exp[i]\n",
    "        return l\n"
   ]
  },
  {
   "cell_type": "markdown",
   "id": "0d0ee1bf",
   "metadata": {},
   "source": [
    "Let's test this"
   ]
  },
  {
   "cell_type": "code",
   "execution_count": 10,
   "id": "29053288",
   "metadata": {},
   "outputs": [
    {
     "name": "stdout",
     "output_type": "stream",
     "text": [
      "2.0461803265984995e-13 2.046180326598502e-13\n"
     ]
    }
   ],
   "source": [
    "n=expected(1,10,15,1,0,10)\n",
    "#Perfect input should show large likelihood\n",
    "print (like(n,1,10,15,1,0,10),math.exp(loglike(n,1,10,15,1,0,10)))"
   ]
  },
  {
   "cell_type": "markdown",
   "id": "27ca4d99",
   "metadata": {},
   "source": [
    "This works, let's try larger numbers"
   ]
  },
  {
   "cell_type": "code",
   "execution_count": 11,
   "id": "0b0efd23",
   "metadata": {},
   "outputs": [
    {
     "name": "stdout",
     "output_type": "stream",
     "text": [
      "1.393203883625507e-98 1.3932038836253948e-98\n"
     ]
    }
   ],
   "source": [
    "n=expected(100,1000,15,1,0,10)\n",
    "#Perfect input should show large likelihood\n",
    "print (like(n,100,1000,15,1,0,10),math.exp(loglike(n,100,1000,15,1,0,10)))"
   ]
  },
  {
   "cell_type": "markdown",
   "id": "e8b76ca0",
   "metadata": {},
   "source": [
    "Ok, not quite the same, but close. Let's see the loglike curve as a function of the parameters (except the background shape parameters, we assume we know those)"
   ]
  },
  {
   "cell_type": "code",
   "execution_count": 12,
   "id": "48c7b204",
   "metadata": {},
   "outputs": [
    {
     "data": {
      "text/plain": [
       "[<matplotlib.lines.Line2D at 0x7fd4f292e4a0>]"
      ]
     },
     "execution_count": 12,
     "metadata": {},
     "output_type": "execute_result"
    },
    {
     "data": {
      "image/png": "[encoded data removed]",
      "text/plain": [
       "<Figure size 432x288 with 1 Axes>"
      ]
     },
     "metadata": {
      "needs_background": "light"
     },
     "output_type": "display_data"
    },
    {
     "data": {
      "image/png": "[encoded data removed]",
      "text/plain": [
       "<Figure size 432x288 with 1 Axes>"
      ]
     },
     "metadata": {
      "needs_background": "light"
     },
     "output_type": "display_data"
    },
    {
     "data": {
      "image/png": "[encoded data removed]",
      "text/plain": [
       "<Figure size 432x288 with 1 Axes>"
      ]
     },
     "metadata": {
      "needs_background": "light"
     },
     "output_type": "display_data"
    },
    {
     "data": {
      "image/png": "[encoded data removed]",
      "text/plain": [
       "<Figure size 432x288 with 1 Axes>"
      ]
     },
     "metadata": {
      "needs_background": "light"
     },
     "output_type": "display_data"
    }
   ],
   "source": [
    "fig, ax = plt.subplots(1, 1)\n",
    "xs=np.linspace(90,110,100)\n",
    "ax.plot(xs,[loglike(n,x,1000,15,1,0,10) for x in xs])\n",
    "fig, ax = plt.subplots(1, 1)\n",
    "xs=np.linspace(900,1100,100)\n",
    "ax.plot(xs,[loglike(n,100,x,15,1,0,10) for x in xs])\n",
    "fig, ax = plt.subplots(1, 1)\n",
    "xs=np.linspace(0,30,100)\n",
    "ax.plot(xs,[loglike(n,100,1000,x,1,0,10) for x in xs])\n",
    "fig, ax = plt.subplots(1, 1)\n",
    "xs=np.linspace(0.1,3,100)\n",
    "ax.plot(xs,[loglike(n,100,1000,15,x,0,10) for x in xs])\n",
    "\n"
   ]
  },
  {
   "cell_type": "markdown",
   "id": "695cc42d",
   "metadata": {},
   "source": [
    "Next step is to write a function that optimizes both mu and theta, and one that optimzes theta for a given mu. "
   ]
  },
  {
   "cell_type": "code",
   "execution_count": 13,
   "id": "964b021e",
   "metadata": {},
   "outputs": [],
   "source": [
    "def best_theta(n,mu, spos, swidth, bpos,bwidth):\n",
    "    #we can estimate the best theta by the sum - mu\n",
    "    xstart=[sum(n)-mu]\n",
    "    re=minimize(lambda x: -loglike(n,mu,x[0],spos,swidth,bpos,bwidth),x0=xstart)\n",
    "    return re.x[0]\n",
    "def best_mu_theta(n,spos,swidth,bpos,bwidth):\n",
    "    xstart=[sum(n)/1000,sum(n)]\n",
    "    re=minimize(lambda x: -loglike(n,x[0],x[1],spos,swidth,bpos,bwidth),x0=xstart)\n",
    "    return re.x[0],re.x[1]"
   ]
  },
  {
   "cell_type": "code",
   "execution_count": 14,
   "id": "27031e6d",
   "metadata": {},
   "outputs": [
    {
     "name": "stdout",
     "output_type": "stream",
     "text": [
      "1000.0053767523435\n",
      "989.3330078125\n",
      "988.565225327021\n",
      "(134.36646246193698, 965.3539802725245)\n",
      "(99.99920938749318, 1000.0066251870121)\n"
     ]
    }
   ],
   "source": [
    "exp=expected(100,1000,15,1,0,10) \n",
    "print (best_theta(exp,100,15,1,0,10))\n",
    "n=one_exp(exp)\n",
    "print (best_theta(n,100,15,1,0,10))\n",
    "print (best_theta(n,101,15,1,0,10))\n",
    "print (best_mu_theta(n,15,1,0,10))\n",
    "print (best_mu_theta(exp,15,1,0,10))"
   ]
  },
  {
   "cell_type": "markdown",
   "id": "f5c90d88",
   "metadata": {},
   "source": [
    "Note that we could make this all a lot faster by optimizing loglike to not recalculate loggamma(n[i]) and exp[i] for every iteration. They are constant.\n",
    "\n",
    "Next is the test statistics. We'll already use the one where we enforce that mu>=0"
   ]
  },
  {
   "cell_type": "code",
   "execution_count": 19,
   "id": "8f3a8b4a",
   "metadata": {},
   "outputs": [],
   "source": [
    "def lmbda(n,mu,spos,swidth,bpos,bwidth):   \n",
    "    bmu,btheta=best_mu_theta(n,spos,swidth, bpos,bwidth)\n",
    "    if bmu<0:\n",
    "        bmu=0\n",
    "        btheta=best_theta(n,0,spos,swidth, bpos,bwidth)\n",
    "    btheta_fixed_mu=best_theta(n,mu,spos,swidth, bpos,bwidth)    \n",
    "    return like(n,mu,btheta_fixed_mu,spos,swidth,bpos,bwidth)/like(n,bmu,btheta,spos,swidth,bpos,bwidth)\n",
    "\n",
    "def t(n,mu,spos,swidth,bpos,bwidth):    \n",
    "    bmu,btheta=best_mu_theta(n,spos,swidth, bpos,bwidth)\n",
    "    if bmu<0:\n",
    "        bmu=0\n",
    "        btheta=best_theta(n,0,spos,swidth, bpos,bwidth)\n",
    "    btheta_fixed_mu=best_theta(n,mu,spos,swidth, bpos,bwidth)\n",
    "    return -2*(loglike(n,mu,btheta_fixed_mu,spos,swidth,bpos,bwidth)-loglike(n,bmu,btheta,spos,swidth,bpos,bwidth))"
   ]
  },
  {
   "cell_type": "code",
   "execution_count": 20,
   "id": "0941ce64",
   "metadata": {},
   "outputs": [
    {
     "name": "stdout",
     "output_type": "stream",
     "text": [
      "0.9294892400144543 0.14624009597673648\n"
     ]
    }
   ],
   "source": [
    "exp=expected(100,1000,15,1,0,10) \n",
    "n=one_exp(exp)\n",
    "print (lmbda(n,100,15,1,0,10),t(n,100,15,1,0,10))"
   ]
  },
  {
   "cell_type": "markdown",
   "id": "201753ef",
   "metadata": {},
   "source": [
    "This works, but is slow, let's implement a faster fitter. Note that Nelder-mead gives better fits!"
   ]
  },
  {
   "cell_type": "code",
   "execution_count": 311,
   "id": "d37c4dac",
   "metadata": {},
   "outputs": [],
   "source": [
    "\n",
    "# This assumes that we have two hists fs,fb. loggamma can be ommitted, as it's a fixed value.\n",
    "def semiloglikefast(n,mu,theta, fs,fb):    \n",
    "        #print (mu,theta)\n",
    "        l=np.log(mu*fs+theta*fb)*n-(mu*fs+theta*fb)\n",
    "        #print (\"SLF\", mu,theta, np.sum(l), np.sum(np.log(mu*fs+theta*fb)*n),np.sum((mu*fs+theta*fb)))\n",
    "        return np.sum(l)\n",
    "\n",
    "def best_theta_fast(n,mu, spos, swidth, bpos,bwidth):\n",
    "    #we can estimate the best theta by the sum - mu\n",
    "    xstart=[sum(n)-mu]\n",
    "    na=np.array(n)\n",
    "    fs=np.array([f_s_i(i,spos,swidth) for i in range(bins)])\n",
    "    fb=np.array([f_b_i(i,bpos,bwidth) for i in range(bins)])    \n",
    "    re=minimize(lambda x: -semiloglikefast(na,mu,x[0],fs,fb),x0=xstart,method=\"Nelder-Mead\")\n",
    "    return re.x[0]\n",
    "def best_mu_theta_fast(n,spos,swidth,bpos,bwidth):\n",
    "    xstart=[0,sum(n)]    \n",
    "    #print (\"Xstart\",xstart)\n",
    "    na=np.array(n)\n",
    "    fs=np.array([f_s_i(i,spos,swidth) for i in range(bins)])\n",
    "    fb=np.array([f_b_i(i,bpos,bwidth) for i in range(bins)])\n",
    "    re=minimize(lambda x: -semiloglikefast(na,x[0],x[1],fs,fb),x0=xstart,method=\"Nelder-Mead\")\n",
    "    return re.x[0],re.x[1]\n"
   ]
  },
  {
   "cell_type": "code",
   "execution_count": 42,
   "id": "ead136dc",
   "metadata": {},
   "outputs": [
    {
     "name": "stdout",
     "output_type": "stream",
     "text": [
      "0.4926882260001548\n",
      "0.016143733000262728\n"
     ]
    }
   ],
   "source": [
    "import timeit\n",
    "exp=expected(100,1000,15,1,0,10) \n",
    "print (timeit.timeit(lambda: best_mu_theta(exp,15,1,0,10),number=1))\n",
    "print (timeit.timeit(lambda: best_mu_theta_fast(exp,15,1,0,10),number=1))\n"
   ]
  },
  {
   "cell_type": "markdown",
   "id": "2f1b0096",
   "metadata": {},
   "source": [
    "Let's define q0 and q_mu. We might want to also define qtildemu at some point."
   ]
  },
  {
   "cell_type": "code",
   "execution_count": 140,
   "id": "c96131d2",
   "metadata": {},
   "outputs": [],
   "source": [
    "def q0(n,mu,spos,swidth,bpos,bwidth):    \n",
    "    bmu,btheta=best_mu_theta_fast(n,spos,swidth, bpos,bwidth)    \n",
    "    if bmu<0:\n",
    "        return 0\n",
    "    btheta_fixed_mu=best_theta_fast(n,mu,spos,swidth, bpos,bwidth)\n",
    "    \n",
    "    return -2*(loglike(n,mu,btheta_fixed_mu,spos,swidth,bpos,bwidth)-loglike(n,bmu,btheta,spos,swidth,bpos,bwidth))\n",
    "\n",
    "def qmu(n,mu,spos,swidth,bpos,bwidth):    \n",
    "    bmu,btheta=best_mu_theta_fast(n,spos,swidth, bpos,bwidth)    \n",
    "    if bmu>mu:\n",
    "        return 0\n",
    "    btheta_fixed_mu=best_theta_fast(n,mu,spos,swidth, bpos,bwidth)\n",
    "    return -2*(loglike(n,mu,btheta_fixed_mu,spos,swidth,bpos,bwidth)-loglike(n,bmu,btheta,spos,swidth,bpos,bwidth))"
   ]
  },
  {
   "cell_type": "markdown",
   "id": "a930c4e5",
   "metadata": {},
   "source": [
    "Ok, good so far. Now we need the distributions to define p and the pdf and cdf of the test statistics. Let's do it experimentally first. We generate a ton of exp, and look at the distributions:"
   ]
  },
  {
   "cell_type": "code",
   "execution_count": 133,
   "id": "b0069773",
   "metadata": {},
   "outputs": [],
   "source": [
    "def nextQ0(thismany):\n",
    "    # we generate one expected distribution:\n",
    "    exp=expected(1000,100000,15,0.25,0,10)\n",
    "    for i in range(thismany):\n",
    "        n=one_exp(exp)        \n",
    "        yield q0(n,0,15,0.25,0,10)\n",
    "        \n",
    "def nextQmu(mutest,thismany):\n",
    "    exp=expected(1000,100000,15,0.25,0,10)\n",
    "    for i in range (thismany):\n",
    "        n=one_exp(exp)\n",
    "        yield qmu(n,mutest,15,0.25,0,10)\n",
    "        "
   ]
  },
  {
   "cell_type": "code",
   "execution_count": 25,
   "id": "5f7a9cc8",
   "metadata": {},
   "outputs": [],
   "source": [
    "import tqdm"
   ]
  },
  {
   "cell_type": "code",
   "execution_count": 145,
   "id": "0bfe844f",
   "metadata": {},
   "outputs": [
    {
     "name": "stderr",
     "output_type": "stream",
     "text": [
      "1000it [02:13,  7.48it/s]\n"
     ]
    },
    {
     "data": {
      "text/plain": [
       "(array([  9.,  58.,  93., 178., 241., 200., 119.,  66.,  26.,  10.]),\n",
       " array([120.84180122, 137.15380782, 153.46581443, 169.77782103,\n",
       "        186.08982763, 202.40183423, 218.71384083, 235.02584743,\n",
       "        251.33785403, 267.64986064, 283.96186724]),\n",
       " <BarContainer object of 10 artists>)"
      ]
     },
     "execution_count": 145,
     "metadata": {},
     "output_type": "execute_result"
    },
    {
     "data": {
      "image/png": "[encoded data removed]",
      "text/plain": [
       "<Figure size 432x288 with 1 Axes>"
      ]
     },
     "metadata": {
      "needs_background": "light"
     },
     "output_type": "display_data"
    }
   ],
   "source": [
    "fig, ax = plt.subplots(1, 1)\n",
    "ax.hist([i for i in tqdm.tqdm(nextQ0(1000))])"
   ]
  },
  {
   "cell_type": "markdown",
   "id": "44334c19",
   "metadata": {},
   "source": [
    "But to use Wald for the asymptotic limits, we need to get the mean mu and its standard dev. In the limit of a very large data set (i.e, the estimated best fit mu/theta are very close to the true value), the dataset is close to the asimov data set and we can get it using eq 30. We can cheat and get it from the expected dataset.\n",
    "\n",
    "Discovery, however, doesn't need that. The pdf follows eq 51ff"
   ]
  },
  {
   "cell_type": "code",
   "execution_count": 80,
   "id": "3dffc60e",
   "metadata": {},
   "outputs": [],
   "source": [
    "def discoveryP(q0):\n",
    "    return 1-norm.cdf(math.sqrt(q0))"
   ]
  },
  {
   "cell_type": "code",
   "execution_count": 144,
   "id": "c057b7c2",
   "metadata": {},
   "outputs": [
    {
     "name": "stderr",
     "output_type": "stream",
     "text": [
      "  3%|██▍                                                                              | 3/100 [00:00<00:05, 18.38it/s]"
     ]
    },
    {
     "name": "stdout",
     "output_type": "stream",
     "text": [
      "discovery P: 0.15366736293971917\n"
     ]
    },
    {
     "name": "stderr",
     "output_type": "stream",
     "text": [
      "100%|███████████████████████████████████████████████████████████████████████████████| 100/100 [00:07<00:00, 13.88it/s]"
     ]
    },
    {
     "name": "stdout",
     "output_type": "stream",
     "text": [
      "Ratio: 0.15\n"
     ]
    },
    {
     "name": "stderr",
     "output_type": "stream",
     "text": [
      "\n"
     ]
    }
   ],
   "source": [
    "#Example:\n",
    "exp=expected(100,100000,15,0.5,0,10)\n",
    "\n",
    "# We do this here for \n",
    "idealQ0=q0(exp,0,15,0.5,0,10)\n",
    "print (\"discovery P:\", discoveryP(idealQ0))\n",
    "\n",
    "exp0=expected(0,100000,15,0.5,0,10)\n",
    "bad=0\n",
    "for i in tqdm.tqdm(range (100)):    \n",
    "    n=one_exp(exp0) # a random measurement with 0 signal\n",
    "    expQ0=q0(n,0,15,0.25,0,10) # the q0 we get for that\n",
    "    if expQ0>idealQ0:\n",
    "        # a random measurement with 0 signal produced a larger q0 than our ideal one\n",
    "        bad+=1\n",
    "print (\"Ratio:\", bad/100)    \n",
    "    \n",
    "    \n",
    "\n"
   ]
  },
  {
   "cell_type": "markdown",
   "id": "5cd40e48",
   "metadata": {},
   "source": [
    "Ok, let's look at experimental sensitivity for rejection. I.e. what is the expected rejection.\n",
    "We want the median rejection Z_mu|0, which is given by sqrt(Q_mu)\n",
    "lambda A mu is mu/muprime, muprime is mu in data"
   ]
  },
  {
   "cell_type": "code",
   "execution_count": 268,
   "id": "a0b45749",
   "metadata": {},
   "outputs": [
    {
     "data": {
      "text/plain": [
       "1.2814710107553544"
      ]
     },
     "execution_count": 268,
     "metadata": {},
     "output_type": "execute_result"
    }
   ],
   "source": []
  },
  {
   "cell_type": "code",
   "execution_count": 318,
   "id": "088dba11",
   "metadata": {},
   "outputs": [
    {
     "name": "stdout",
     "output_type": "stream",
     "text": [
      "101.71117279372272 1.074194170857586\n"
     ]
    }
   ],
   "source": [
    "# same as discoveryP\n",
    "def rejectionP(qmu):\n",
    "    if (qmu<0):\n",
    "        return 1\n",
    "    return 1-norm.cdf(math.sqrt(qmu))\n",
    "\n",
    "\n",
    "def find_mu_for_median_p(n,p,spos, swidth,bpos,bwidth):\n",
    "    a=0\n",
    "    target_q=math.pow(norm.isf(p),2)    \n",
    "    b=sum(n)/2 # signal not more than 1%?\n",
    "    qa=qmu(n,a,spos,swidth,bpos,bwidth)-target_q\n",
    "    qb=qmu(n,b,spos,swidth,bpos,bwidth)-target_q\n",
    "    \n",
    "    while b-a>0.1: # assuming mu to be signal counts. Otherwise smaller cutoff\n",
    "        c=(a+b)/2\n",
    "        qc=qmu(n,c,spos,swidth,bpos,bwidth)-target_q        \n",
    "        if qc*qa>0:\n",
    "            a=c\n",
    "            qa=qc\n",
    "        else:\n",
    "            b=c\n",
    "            qb=qc\n",
    "        #print (qa,qb,a,b)\n",
    "    return (b+a)/2,target_q\n",
    "        \n",
    "\n",
    "exp=expected(0,100000,15,0.5,0,10)\n",
    "mmu,mq=find_mu_for_median_p(exp,0.15,15,0.5,0,10)\n",
    "print (mmu,mq)\n",
    "\n",
    "       \n",
    "\n"
   ]
  },
  {
   "cell_type": "code",
   "execution_count": 320,
   "id": "f8d7981d",
   "metadata": {},
   "outputs": [
    {
     "name": "stderr",
     "output_type": "stream",
     "text": [
      "100%|█████████████████████████████████████████████████████████████████████████████████| 100/100 [00:09<00:00, 10.82it/s]"
     ]
    },
    {
     "name": "stdout",
     "output_type": "stream",
     "text": [
      "Ratio: 0.14\n"
     ]
    },
    {
     "name": "stderr",
     "output_type": "stream",
     "text": [
      "\n"
     ]
    }
   ],
   "source": [
    "exp=expected(101.7,100000,15,0.5,0,10)\n",
    "\n",
    "bad=0\n",
    "for i in tqdm.tqdm(range (100)):\n",
    "    n=one_exp(exp)    \n",
    "    expQmu=qmu(n,101.7,15,0.5,0,10) # the q0 we get for that\n",
    "    if expQmu>mq:\n",
    "        # a random measurement with 0 signal produced a larger q0 than our ideal one\n",
    "        bad+=1\n",
    "print (\"Ratio:\", bad/100)    \n",
    "    "
   ]
  },
  {
   "cell_type": "code",
   "execution_count": 325,
   "id": "eab31c3c",
   "metadata": {},
   "outputs": [
    {
     "name": "stderr",
     "output_type": "stream",
     "text": [
      "100%|█████████████████████████████████████████████████████████████████████████████████| 120/120 [05:40<00:00,  2.84s/it]\n"
     ]
    }
   ],
   "source": [
    "exp=expected(0,100000,15,0.5,0,10)\n",
    "n=one_exp(exp)\n",
    "rejhist=[]\n",
    "for i in tqdm.tqdm(range (bins)):\n",
    "    bincenter=(histobins[i]+histobins[i+1])/2\n",
    "    mmu,mq=find_mu_for_median_p(exp,0.15,bincenter,0.5,0,10)    \n",
    "    rejhist.append(mmu)\n",
    "    "
   ]
  },
  {
   "cell_type": "code",
   "execution_count": 324,
   "id": "1396a6bf",
   "metadata": {},
   "outputs": [
    {
     "data": {
      "text/plain": [
       "[<matplotlib.lines.Line2D at 0x7fd4f1b6fc70>]"
      ]
     },
     "execution_count": 324,
     "metadata": {},
     "output_type": "execute_result"
    },
    {
     "data": {
      "image/png": "[encoded data removed]",
      "text/plain": [
       "<Figure size 432x288 with 1 Axes>"
      ]
     },
     "metadata": {
      "needs_background": "light"
     },
     "output_type": "display_data"
    }
   ],
   "source": [
    "fig, ax = plt.subplots(1, 1)\n",
    "ax.plot(histobins,rejhist+[0])"
   ]
  },
  {
   "cell_type": "code",
   "execution_count": null,
   "id": "a04aad93",
   "metadata": {},
   "outputs": [],
   "source": []
  }
 ],
 "metadata": {
  "kernelspec": {
   "display_name": "Python 3 (ipykernel)",
   "language": "python",
   "name": "python3"
  },
  "language_info": {
   "codemirror_mode": {
    "name": "ipython",
    "version": 3
   },
   "file_extension": ".py",
   "mimetype": "text/x-python",
   "name": "python",
   "nbconvert_exporter": "python",
   "pygments_lexer": "ipython3",
   "version": "3.10.12"
  }
 },
 "nbformat": 4,
 "nbformat_minor": 5
}
